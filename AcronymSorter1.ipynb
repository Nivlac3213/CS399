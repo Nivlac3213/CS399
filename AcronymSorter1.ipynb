{
 "cells": [
  {
   "cell_type": "code",
   "execution_count": 1,
   "outputs": [],
   "source": [
    "import numpy as np\n",
    "import pandas as pd"
   ],
   "metadata": {
    "collapsed": false,
    "pycharm": {
     "name": "#%%\n"
    }
   }
  },
  {
   "cell_type": "code",
   "execution_count": 38,
   "outputs": [
    {
     "data": {
      "text/plain": "   Acronym                                            Meaning\n0      API                      Application Program Interface\n1     ASIC            Application Specific Integrated Circuit\n2      DLP                           Digital Light Processing\n3      DMD                          digital Micomirror Device\n4      DVH                         Design Validation Hardware\n5      ECD                          Enterprise Cinema Display\n6      EVM                                   Evauation Module\n7   Fusion                      Fusion Digital Power Designer\n8      I2C  \"I squared C\" - Inter-integrated Circuit Seria...\n9   INAxxx                           Current Sensor Component\n10   PMBus                                Power Managment Bus\n11    PMIC                 Mowe Management Integrated Circuit\n12     PVT                        Process Voltage Temperature\n13  TPSxxx                          Voltage Stepper Component",
      "text/html": "<div>\n<style scoped>\n    .dataframe tbody tr th:only-of-type {\n        vertical-align: middle;\n    }\n\n    .dataframe tbody tr th {\n        vertical-align: top;\n    }\n\n    .dataframe thead th {\n        text-align: right;\n    }\n</style>\n<table border=\"1\" class=\"dataframe\">\n  <thead>\n    <tr style=\"text-align: right;\">\n      <th></th>\n      <th>Acronym</th>\n      <th>Meaning</th>\n    </tr>\n  </thead>\n  <tbody>\n    <tr>\n      <th>0</th>\n      <td>API</td>\n      <td>Application Program Interface</td>\n    </tr>\n    <tr>\n      <th>1</th>\n      <td>ASIC</td>\n      <td>Application Specific Integrated Circuit</td>\n    </tr>\n    <tr>\n      <th>2</th>\n      <td>DLP</td>\n      <td>Digital Light Processing</td>\n    </tr>\n    <tr>\n      <th>3</th>\n      <td>DMD</td>\n      <td>digital Micomirror Device</td>\n    </tr>\n    <tr>\n      <th>4</th>\n      <td>DVH</td>\n      <td>Design Validation Hardware</td>\n    </tr>\n    <tr>\n      <th>5</th>\n      <td>ECD</td>\n      <td>Enterprise Cinema Display</td>\n    </tr>\n    <tr>\n      <th>6</th>\n      <td>EVM</td>\n      <td>Evauation Module</td>\n    </tr>\n    <tr>\n      <th>7</th>\n      <td>Fusion</td>\n      <td>Fusion Digital Power Designer</td>\n    </tr>\n    <tr>\n      <th>8</th>\n      <td>I2C</td>\n      <td>\"I squared C\" - Inter-integrated Circuit Seria...</td>\n    </tr>\n    <tr>\n      <th>9</th>\n      <td>INAxxx</td>\n      <td>Current Sensor Component</td>\n    </tr>\n    <tr>\n      <th>10</th>\n      <td>PMBus</td>\n      <td>Power Managment Bus</td>\n    </tr>\n    <tr>\n      <th>11</th>\n      <td>PMIC</td>\n      <td>Mowe Management Integrated Circuit</td>\n    </tr>\n    <tr>\n      <th>12</th>\n      <td>PVT</td>\n      <td>Process Voltage Temperature</td>\n    </tr>\n    <tr>\n      <th>13</th>\n      <td>TPSxxx</td>\n      <td>Voltage Stepper Component</td>\n    </tr>\n  </tbody>\n</table>\n</div>"
     },
     "execution_count": 38,
     "metadata": {},
     "output_type": "execute_result"
    }
   ],
   "source": [
    "df = pd.read_excel('Acronyms.xlsx')\n",
    "#df.drop('Unnamed: 0.1', inplace= True, axis=1)\n",
    "#df.drop('Unnamed: 0', inplace= True, axis = 1)\n",
    "df"
   ],
   "metadata": {
    "collapsed": false,
    "pycharm": {
     "name": "#%%\n"
    }
   }
  },
  {
   "cell_type": "code",
   "execution_count": 39,
   "outputs": [
    {
     "data": {
      "text/plain": "0        API\n1       ASIC\n2        DLP\n3        DMD\n4        DVH\n5        ECD\n6        EVM\n7     Fusion\n8        I2C\n9     INAxxx\n10     PMBus\n11      PMIC\n12       PVT\n13    TPSxxx\nName: Acronym, dtype: object"
     },
     "execution_count": 39,
     "metadata": {},
     "output_type": "execute_result"
    }
   ],
   "source": [
    "df['Acronym'].sort_values()"
   ],
   "metadata": {
    "collapsed": false,
    "pycharm": {
     "name": "#%%\n"
    }
   }
  },
  {
   "cell_type": "code",
   "execution_count": 40,
   "outputs": [
    {
     "data": {
      "text/plain": "   Acronym                                            Meaning\n0      API                      Application Program Interface\n1     ASIC            Application Specific Integrated Circuit\n2      DLP                           Digital Light Processing\n3      DMD                          digital Micomirror Device\n4      DVH                         Design Validation Hardware\n5      ECD                          Enterprise Cinema Display\n6      EVM                                   Evauation Module\n7   Fusion                      Fusion Digital Power Designer\n8      I2C  \"I squared C\" - Inter-integrated Circuit Seria...\n9   INAxxx                           Current Sensor Component\n10   PMBus                                Power Managment Bus\n11    PMIC                 Mowe Management Integrated Circuit\n12     PVT                        Process Voltage Temperature\n13  TPSxxx                          Voltage Stepper Component",
      "text/html": "<div>\n<style scoped>\n    .dataframe tbody tr th:only-of-type {\n        vertical-align: middle;\n    }\n\n    .dataframe tbody tr th {\n        vertical-align: top;\n    }\n\n    .dataframe thead th {\n        text-align: right;\n    }\n</style>\n<table border=\"1\" class=\"dataframe\">\n  <thead>\n    <tr style=\"text-align: right;\">\n      <th></th>\n      <th>Acronym</th>\n      <th>Meaning</th>\n    </tr>\n  </thead>\n  <tbody>\n    <tr>\n      <th>0</th>\n      <td>API</td>\n      <td>Application Program Interface</td>\n    </tr>\n    <tr>\n      <th>1</th>\n      <td>ASIC</td>\n      <td>Application Specific Integrated Circuit</td>\n    </tr>\n    <tr>\n      <th>2</th>\n      <td>DLP</td>\n      <td>Digital Light Processing</td>\n    </tr>\n    <tr>\n      <th>3</th>\n      <td>DMD</td>\n      <td>digital Micomirror Device</td>\n    </tr>\n    <tr>\n      <th>4</th>\n      <td>DVH</td>\n      <td>Design Validation Hardware</td>\n    </tr>\n    <tr>\n      <th>5</th>\n      <td>ECD</td>\n      <td>Enterprise Cinema Display</td>\n    </tr>\n    <tr>\n      <th>6</th>\n      <td>EVM</td>\n      <td>Evauation Module</td>\n    </tr>\n    <tr>\n      <th>7</th>\n      <td>Fusion</td>\n      <td>Fusion Digital Power Designer</td>\n    </tr>\n    <tr>\n      <th>8</th>\n      <td>I2C</td>\n      <td>\"I squared C\" - Inter-integrated Circuit Seria...</td>\n    </tr>\n    <tr>\n      <th>9</th>\n      <td>INAxxx</td>\n      <td>Current Sensor Component</td>\n    </tr>\n    <tr>\n      <th>10</th>\n      <td>PMBus</td>\n      <td>Power Managment Bus</td>\n    </tr>\n    <tr>\n      <th>11</th>\n      <td>PMIC</td>\n      <td>Mowe Management Integrated Circuit</td>\n    </tr>\n    <tr>\n      <th>12</th>\n      <td>PVT</td>\n      <td>Process Voltage Temperature</td>\n    </tr>\n    <tr>\n      <th>13</th>\n      <td>TPSxxx</td>\n      <td>Voltage Stepper Component</td>\n    </tr>\n  </tbody>\n</table>\n</div>"
     },
     "execution_count": 40,
     "metadata": {},
     "output_type": "execute_result"
    }
   ],
   "source": [
    "sorted = df.sort_values(by='Acronym')\n",
    "sorted"
   ],
   "metadata": {
    "collapsed": false,
    "pycharm": {
     "name": "#%%\n"
    }
   }
  },
  {
   "cell_type": "code",
   "execution_count": 41,
   "outputs": [],
   "source": [
    "sorted.to_excel('Acronyms.xlsx', index = False)"
   ],
   "metadata": {
    "collapsed": false,
    "pycharm": {
     "name": "#%%\n"
    }
   }
  },
  {
   "cell_type": "code",
   "execution_count": 23,
   "outputs": [
    {
     "ename": "KeyError",
     "evalue": "0",
     "output_type": "error",
     "traceback": [
      "\u001B[1;31m---------------------------------------------------------------------------\u001B[0m",
      "\u001B[1;31mKeyError\u001B[0m                                  Traceback (most recent call last)",
      "File \u001B[1;32m~\\AppData\\Local\\Programs\\Python\\Python310\\lib\\site-packages\\pandas\\core\\indexes\\base.py:3621\u001B[0m, in \u001B[0;36mIndex.get_loc\u001B[1;34m(self, key, method, tolerance)\u001B[0m\n\u001B[0;32m   3620\u001B[0m \u001B[38;5;28;01mtry\u001B[39;00m:\n\u001B[1;32m-> 3621\u001B[0m     \u001B[38;5;28;01mreturn\u001B[39;00m \u001B[38;5;28;43mself\u001B[39;49m\u001B[38;5;241;43m.\u001B[39;49m\u001B[43m_engine\u001B[49m\u001B[38;5;241;43m.\u001B[39;49m\u001B[43mget_loc\u001B[49m\u001B[43m(\u001B[49m\u001B[43mcasted_key\u001B[49m\u001B[43m)\u001B[49m\n\u001B[0;32m   3622\u001B[0m \u001B[38;5;28;01mexcept\u001B[39;00m \u001B[38;5;167;01mKeyError\u001B[39;00m \u001B[38;5;28;01mas\u001B[39;00m err:\n",
      "File \u001B[1;32m~\\AppData\\Local\\Programs\\Python\\Python310\\lib\\site-packages\\pandas\\_libs\\index.pyx:136\u001B[0m, in \u001B[0;36mpandas._libs.index.IndexEngine.get_loc\u001B[1;34m()\u001B[0m\n",
      "File \u001B[1;32m~\\AppData\\Local\\Programs\\Python\\Python310\\lib\\site-packages\\pandas\\_libs\\index.pyx:163\u001B[0m, in \u001B[0;36mpandas._libs.index.IndexEngine.get_loc\u001B[1;34m()\u001B[0m\n",
      "File \u001B[1;32mpandas\\_libs\\hashtable_class_helper.pxi:5198\u001B[0m, in \u001B[0;36mpandas._libs.hashtable.PyObjectHashTable.get_item\u001B[1;34m()\u001B[0m\n",
      "File \u001B[1;32mpandas\\_libs\\hashtable_class_helper.pxi:5206\u001B[0m, in \u001B[0;36mpandas._libs.hashtable.PyObjectHashTable.get_item\u001B[1;34m()\u001B[0m\n",
      "\u001B[1;31mKeyError\u001B[0m: 0",
      "\nThe above exception was the direct cause of the following exception:\n",
      "\u001B[1;31mKeyError\u001B[0m                                  Traceback (most recent call last)",
      "Input \u001B[1;32mIn [23]\u001B[0m, in \u001B[0;36m<cell line: 1>\u001B[1;34m()\u001B[0m\n\u001B[1;32m----> 1\u001B[0m \u001B[38;5;28;01mdel\u001B[39;00m df[\u001B[38;5;241m0\u001B[39m]\n\u001B[0;32m      2\u001B[0m df\n",
      "File \u001B[1;32m~\\AppData\\Local\\Programs\\Python\\Python310\\lib\\site-packages\\pandas\\core\\generic.py:4048\u001B[0m, in \u001B[0;36mNDFrame.__delitem__\u001B[1;34m(self, key)\u001B[0m\n\u001B[0;32m   4043\u001B[0m             deleted \u001B[38;5;241m=\u001B[39m \u001B[38;5;28;01mTrue\u001B[39;00m\n\u001B[0;32m   4044\u001B[0m \u001B[38;5;28;01mif\u001B[39;00m \u001B[38;5;129;01mnot\u001B[39;00m deleted:\n\u001B[0;32m   4045\u001B[0m     \u001B[38;5;66;03m# If the above loop ran and didn't delete anything because\u001B[39;00m\n\u001B[0;32m   4046\u001B[0m     \u001B[38;5;66;03m# there was no match, this call should raise the appropriate\u001B[39;00m\n\u001B[0;32m   4047\u001B[0m     \u001B[38;5;66;03m# exception:\u001B[39;00m\n\u001B[1;32m-> 4048\u001B[0m     loc \u001B[38;5;241m=\u001B[39m \u001B[38;5;28;43mself\u001B[39;49m\u001B[38;5;241;43m.\u001B[39;49m\u001B[43maxes\u001B[49m\u001B[43m[\u001B[49m\u001B[38;5;241;43m-\u001B[39;49m\u001B[38;5;241;43m1\u001B[39;49m\u001B[43m]\u001B[49m\u001B[38;5;241;43m.\u001B[39;49m\u001B[43mget_loc\u001B[49m\u001B[43m(\u001B[49m\u001B[43mkey\u001B[49m\u001B[43m)\u001B[49m\n\u001B[0;32m   4049\u001B[0m     \u001B[38;5;28mself\u001B[39m\u001B[38;5;241m.\u001B[39m_mgr \u001B[38;5;241m=\u001B[39m \u001B[38;5;28mself\u001B[39m\u001B[38;5;241m.\u001B[39m_mgr\u001B[38;5;241m.\u001B[39midelete(loc)\n\u001B[0;32m   4051\u001B[0m \u001B[38;5;66;03m# delete from the caches\u001B[39;00m\n",
      "File \u001B[1;32m~\\AppData\\Local\\Programs\\Python\\Python310\\lib\\site-packages\\pandas\\core\\indexes\\base.py:3623\u001B[0m, in \u001B[0;36mIndex.get_loc\u001B[1;34m(self, key, method, tolerance)\u001B[0m\n\u001B[0;32m   3621\u001B[0m     \u001B[38;5;28;01mreturn\u001B[39;00m \u001B[38;5;28mself\u001B[39m\u001B[38;5;241m.\u001B[39m_engine\u001B[38;5;241m.\u001B[39mget_loc(casted_key)\n\u001B[0;32m   3622\u001B[0m \u001B[38;5;28;01mexcept\u001B[39;00m \u001B[38;5;167;01mKeyError\u001B[39;00m \u001B[38;5;28;01mas\u001B[39;00m err:\n\u001B[1;32m-> 3623\u001B[0m     \u001B[38;5;28;01mraise\u001B[39;00m \u001B[38;5;167;01mKeyError\u001B[39;00m(key) \u001B[38;5;28;01mfrom\u001B[39;00m \u001B[38;5;21;01merr\u001B[39;00m\n\u001B[0;32m   3624\u001B[0m \u001B[38;5;28;01mexcept\u001B[39;00m \u001B[38;5;167;01mTypeError\u001B[39;00m:\n\u001B[0;32m   3625\u001B[0m     \u001B[38;5;66;03m# If we have a listlike key, _check_indexing_error will raise\u001B[39;00m\n\u001B[0;32m   3626\u001B[0m     \u001B[38;5;66;03m#  InvalidIndexError. Otherwise we fall through and re-raise\u001B[39;00m\n\u001B[0;32m   3627\u001B[0m     \u001B[38;5;66;03m#  the TypeError.\u001B[39;00m\n\u001B[0;32m   3628\u001B[0m     \u001B[38;5;28mself\u001B[39m\u001B[38;5;241m.\u001B[39m_check_indexing_error(key)\n",
      "\u001B[1;31mKeyError\u001B[0m: 0"
     ]
    }
   ],
   "source": [],
   "metadata": {
    "collapsed": false,
    "pycharm": {
     "name": "#%%\n"
    }
   }
  },
  {
   "cell_type": "code",
   "execution_count": null,
   "outputs": [],
   "source": [],
   "metadata": {
    "collapsed": false,
    "pycharm": {
     "name": "#%%\n"
    }
   }
  }
 ],
 "metadata": {
  "kernelspec": {
   "display_name": "Python 3",
   "language": "python",
   "name": "python3"
  },
  "language_info": {
   "codemirror_mode": {
    "name": "ipython",
    "version": 2
   },
   "file_extension": ".py",
   "mimetype": "text/x-python",
   "name": "python",
   "nbconvert_exporter": "python",
   "pygments_lexer": "ipython2",
   "version": "2.7.6"
  }
 },
 "nbformat": 4,
 "nbformat_minor": 0
}